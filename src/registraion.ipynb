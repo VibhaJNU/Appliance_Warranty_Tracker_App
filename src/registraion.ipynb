{
 "cells": [
  {
   "cell_type": "code",
   "execution_count": 5,
   "id": "fc2b9675",
   "metadata": {},
   "outputs": [],
   "source": [
    "import sqlite3\n",
    "import os\n",
    "from datetime import datetime, timedelta\n",
    "import pandas as pd"
   ]
  },
  {
   "cell_type": "code",
   "execution_count": 7,
   "id": "1cbb0b56",
   "metadata": {},
   "outputs": [],
   "source": [
    "def insert_registration_data(id, username, email, password):\n",
    "    \n",
    "    path = os.path.join(os.getcwd(),\"Database\", \"Customer_data.db\")\n",
    "    connection = sqlite3.connect(path)\n",
    "    cursor = connection.cursor()\n",
    "\n",
    "    try:\n",
    "        cursor.execute('''\n",
    "            INSERT INTO Registration_login (id, username, email, password)\n",
    "            VALUES (?, ?, ?, ?)\n",
    "        ''', (id, username, email, password))\n",
    "        connection.commit()\n",
    "    except sqlite3.Error as e:\n",
    "        print(f\"An error occurred: {e}\")\n",
    "    finally:\n",
    "        connection.close()  # Ensure the connection is closed"
   ]
  },
  {
   "cell_type": "code",
   "execution_count": 3,
   "id": "59392ed7",
   "metadata": {},
   "outputs": [],
   "source": [
    "#Customer Input\n",
    "username= input(\"Enter your name: \")\n",
    "email = input(\"Enter your email: \")            \n",
    "password = input(\"Enter 7 charachter password : \")\n",
    "id = username +\"_\"+ email\n",
    "id = id.replace(\" \", \"_\")\n",
    "id = id.lower()  # Convert to lowercase for consistency\n"
   ]
  },
  {
   "cell_type": "code",
   "execution_count": 8,
   "id": "70b5a668",
   "metadata": {},
   "outputs": [],
   "source": [
    "insert_registration_data(id, username, email, password)"
   ]
  },
  {
   "cell_type": "code",
   "execution_count": 9,
   "id": "ced3bf09",
   "metadata": {},
   "outputs": [
    {
     "name": "stdout",
     "output_type": "stream",
     "text": [
      "Customer_info Table Data:\n",
      "('ajay_mishra_ajaymishra@gmail.com', 'Ajay Mishra', 'ajaymishra@gmail.com', 'Ajay@123')\n"
     ]
    }
   ],
   "source": [
    "path = os.path.join(os.getcwd(), \"Database\", \"Customer_data.db\")\n",
    "connection = sqlite3.connect(path)\n",
    "cursor = connection.cursor()\n",
    "\n",
    "try:\n",
    "    cursor.execute(\"SELECT * FROM registration_login\")\n",
    "    rows = cursor.fetchall()\n",
    "    \n",
    "    # Print the table data\n",
    "    print(\"Customer_info Table Data:\")\n",
    "    for row in rows:\n",
    "        print(row)\n",
    "except sqlite3.Error as e:\n",
    "    print(f\"An error occurred: {e}\")\n",
    "finally:\n",
    "    connection.close()"
   ]
  },
  {
   "cell_type": "code",
   "execution_count": 12,
   "id": "dc4b243c",
   "metadata": {},
   "outputs": [],
   "source": [
    "#login\n",
    "def login_info(username, password):\n",
    "    path = os.path.join(os.getcwd(), \"Database\", \"Customer_data.db\")\n",
    "    connection = sqlite3.connect(path)\n",
    "    cursor = connection.cursor()\n",
    "\n",
    "    try:\n",
    "        cursor.execute('''\n",
    "            SELECT * FROM Registration_login WHERE username = ? AND password = ?\n",
    "        ''', (username, password))\n",
    "        user = cursor.fetchone()\n",
    "        \n",
    "        if user:\n",
    "            print(\"Login successful!\")\n",
    "            return True\n",
    "        else:\n",
    "            print(\"Invalid username or password.\")\n",
    "            return False\n",
    "    except sqlite3.Error as e:\n",
    "        print(f\"An error occurred: {e}\")\n",
    "        return False\n",
    "    finally:\n",
    "        connection.close()"
   ]
  },
  {
   "cell_type": "code",
   "execution_count": 11,
   "id": "ed33a259",
   "metadata": {},
   "outputs": [
    {
     "name": "stdout",
     "output_type": "stream",
     "text": [
      "Login successful!\n"
     ]
    },
    {
     "data": {
      "text/plain": [
       "True"
      ]
     },
     "execution_count": 11,
     "metadata": {},
     "output_type": "execute_result"
    }
   ],
   "source": [
    "login('Ajay Mishra', 'Ajay@123')"
   ]
  },
  {
   "cell_type": "code",
   "execution_count": null,
   "id": "cf19c4fc",
   "metadata": {},
   "outputs": [],
   "source": []
  }
 ],
 "metadata": {
  "kernelspec": {
   "display_name": ".venv",
   "language": "python",
   "name": "python3"
  },
  "language_info": {
   "codemirror_mode": {
    "name": "ipython",
    "version": 3
   },
   "file_extension": ".py",
   "mimetype": "text/x-python",
   "name": "python",
   "nbconvert_exporter": "python",
   "pygments_lexer": "ipython3",
   "version": "3.11.5"
  }
 },
 "nbformat": 4,
 "nbformat_minor": 5
}
