{
 "cells": [
  {
   "cell_type": "code",
   "execution_count": 1,
   "id": "3e5601c1",
   "metadata": {},
   "outputs": [],
   "source": [
    "# Import Required Libraries\n",
    "import sqlite3\n",
    "import os"
   ]
  },
  {
   "cell_type": "code",
   "execution_count": 2,
   "id": "16075179",
   "metadata": {},
   "outputs": [],
   "source": [
    "# Create a database and a sample table\n",
    "path = os.path.join(os.getcwd(),\"Database\", \"Customer_data.db\")\n",
    "connection = sqlite3.connect(path)\n",
    "cursor = connection.cursor()\n",
    "\n",
    "\n",
    "# Create a table\n",
    "cursor.execute('''\n",
    "CREATE TABLE IF NOT EXISTS Customer_info(\n",
    "    id TEXT NOT NULL,\n",
    "    name VARCHAR NOT NULL,\n",
    "    email_id VARCHAR NOT NULL,\n",
    "    Appliance_name TEXT NOT NULL,\n",
    "    Purchase_date DATE NOT NULL,\n",
    "    warranty_period INTEGER NOT NULL,\n",
    "    warranty_expiry_date DATE NOT NULL\n",
    ")\n",
    "''')\n",
    "\n",
    "# Create registration table\n",
    "cursor.execute('''\n",
    "CREATE TABLE IF NOT EXISTS Registration_login(\n",
    "    id TEXT NOT NULL,\n",
    "    username TEXT NOT NULL,\n",
    "    email TEXT NOT NULL,\n",
    "    password VARCHAR NOT NULL\n",
    ")\n",
    "''')\n",
    "\n",
    "\n",
    "# Commit changes and close the connection\n",
    "connection.commit()\n",
    "connection.close()"
   ]
  },
  {
   "cell_type": "code",
   "execution_count": 3,
   "id": "e6ec6e7d",
   "metadata": {},
   "outputs": [
    {
     "name": "stdout",
     "output_type": "stream",
     "text": [
      "Tables in the database: [('Customer_info',), ('Registration_login',)]\n"
     ]
    }
   ],
   "source": [
    "connection = sqlite3.connect(path)\n",
    "cursor = connection.cursor()\n",
    "\n",
    "cursor.execute(\"SELECT name FROM sqlite_master WHERE type='table';\")\n",
    "\n",
    "tables = cursor.fetchall()\n",
    "print(\"Tables in the database:\", tables)\n",
    "\n",
    "# Close the connection\n",
    "connection.close()"
   ]
  }
 ],
 "metadata": {
  "kernelspec": {
   "display_name": ".venv",
   "language": "python",
   "name": "python3"
  },
  "language_info": {
   "codemirror_mode": {
    "name": "ipython",
    "version": 3
   },
   "file_extension": ".py",
   "mimetype": "text/x-python",
   "name": "python",
   "nbconvert_exporter": "python",
   "pygments_lexer": "ipython3",
   "version": "3.11.5"
  }
 },
 "nbformat": 4,
 "nbformat_minor": 5
}
