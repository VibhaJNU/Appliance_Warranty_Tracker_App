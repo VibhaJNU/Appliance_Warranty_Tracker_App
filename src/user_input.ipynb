{
 "cells": [
  {
   "cell_type": "code",
   "execution_count": 39,
   "id": "3a8a5d33",
   "metadata": {},
   "outputs": [],
   "source": [
    "import sqlite3\n",
    "import os\n",
    "from datetime import datetime, timedelta\n",
    "import pandas as pd"
   ]
  },
  {
   "cell_type": "code",
   "execution_count": 49,
   "id": "5ff39dfc",
   "metadata": {},
   "outputs": [],
   "source": [
    "def insert_customer_data(id, cust_name, cust_email, appliance, purchase_date, warranty_period, warranty_expiry_date):\n",
    "    \n",
    "    path = os.path.join(os.getcwd(),\"Database\", \"Customer_data.db\")\n",
    "    connection = sqlite3.connect(path)\n",
    "    cursor = connection.cursor()\n",
    "\n",
    "    try:\n",
    "        cursor.execute('''\n",
    "            INSERT INTO Customer_info (id, name, email_id, Appliance_name, Purchase_date, warranty_period, warranty_expiry_date)\n",
    "            VALUES (?, ?, ?, ?, ?, ?, ?)\n",
    "        ''', (id, cust_name, cust_email, appliance, purchase_date, warranty_period, warranty_expiry_date))\n",
    "        connection.commit()\n",
    "    except sqlite3.Error as e:\n",
    "        print(f\"An error occurred: {e}\")\n",
    "    finally:\n",
    "        connection.close()  # Ensure the connection is closed"
   ]
  },
  {
   "cell_type": "code",
   "execution_count": null,
   "id": "b7b1b791",
   "metadata": {},
   "outputs": [],
   "source": [
    "#Customer Input\n",
    "cust_name= input(\"Enter your name: \")\n",
    "cust_email = input(\"Enter your email: \")            \n",
    "appliance = input(\"Enter the appliance name: \")\n",
    "purchase_date = input(\"Enter the purchase date (YYYY-MM-DD): \") \n",
    "warranty_period = input(\"Enter the warranty period (in years): \")\n",
    "id = cust_name +\"_\"+ cust_email\n",
    "id = id.replace(\" \", \"_\")\n",
    "id = id.lower()  # Convert to lowercase for consistency\n"
   ]
  },
  {
   "cell_type": "code",
   "execution_count": 26,
   "id": "fbda1786",
   "metadata": {},
   "outputs": [],
   "source": [
    "# Calculate warranty end date\n",
    "if purchase_date:\n",
    "    purchase_date_date = datetime.strptime(purchase_date, \"%Y-%m-%d\")\n",
    "    warranty_end_date = purchase_date_date + timedelta(days=float(warranty_period) * 365)\n",
    "    warranty_expiry_date = warranty_end_date.strftime(\"%Y-%m-%d\")"
   ]
  },
  {
   "cell_type": "code",
   "execution_count": 27,
   "id": "1f66a3d7",
   "metadata": {},
   "outputs": [],
   "source": [
    "# Create folder where customer can upload your  therir bill (image /PDF)\n",
    "folder_path = os.path.join(os.getcwd(), \"Customer_Bills\", id)\n",
    "if not os.path.exists(folder_path):\n",
    "    os.makedirs(folder_path)\n"
   ]
  },
  {
   "cell_type": "code",
   "execution_count": 28,
   "id": "6bde1b01",
   "metadata": {},
   "outputs": [
    {
     "name": "stdout",
     "output_type": "stream",
     "text": [
      "An error occurred: UNIQUE constraint failed: Customer_info.id\n"
     ]
    }
   ],
   "source": [
    "#Inster information into the database\n",
    "insert_customer_data(id, cust_name, cust_email, appliance, purchase_date, warranty_period, warranty_expiry_date)"
   ]
  },
  {
   "cell_type": "code",
   "execution_count": 50,
   "id": "f359801b",
   "metadata": {},
   "outputs": [],
   "source": [
    "def customer_info_display(id):\n",
    "    path = os.path.join(os.getcwd(), \"Database\", \"Customer_data.db\")\n",
    "    connection = sqlite3.connect(path)\n",
    "    cursor = connection.cursor()\n",
    "\n",
    "    try:\n",
    "        cursor.execute(\"SELECT * FROM Customer_info WHERE id=?\", (id,))\n",
    "        rows = cursor.fetchall()\n",
    "        return rows\n",
    "    except sqlite3.Error as e:\n",
    "        print(f\"An error occurred: {e}\")\n",
    "    finally:\n",
    "        connection.close()"
   ]
  },
  {
   "cell_type": "code",
   "execution_count": 51,
   "id": "454ee490",
   "metadata": {},
   "outputs": [
    {
     "name": "stdout",
     "output_type": "stream",
     "text": [
      "Customer_info Table Data:\n",
      "('Vibha_Vibha@gmail.com', 'Vibha', 'Vibha@gmail.com', 'Fridge', '2024-09-01', 1, '2025-09-01')\n",
      "('Anshu_Anshu@gmail.com', 'Anshu', 'Anshu@gmail.com', 'Conventional Oven', '2025-07-21', 1, '2026-07-21')\n",
      "('Anshu_Anshu12@gmail.com', 'Anshu', 'Anshu12@gmail.com', 'Conventional Oven', '2025-07-21', 1, '2026-07-21')\n",
      "('Priya_Priya@gmail.com', 'Priya', 'Priya@gmail.com', 'Convection Oven', '2025-07-21', 2, '2027-07-21')\n",
      "('Sumit_Sumit@gmail.com', 'Sumit', 'Sumit@gmail.com', 'Refrigerator', '2025-07-21', 3, '2028-07-20')\n",
      "('Poonam_Poonam@gmail.com', 'Poonam', 'Poonam@gmail.com', 'Built-in Oven', '2025-07-22', 1, '2026-07-22')\n"
     ]
    }
   ],
   "source": [
    "path = os.path.join(os.getcwd(), \"Database\", \"Customer_data.db\")\n",
    "connection = sqlite3.connect(path)\n",
    "cursor = connection.cursor()\n",
    "\n",
    "try:\n",
    "    cursor.execute(\"SELECT * FROM Customer_info\")\n",
    "    rows = cursor.fetchall()\n",
    "    \n",
    "    # Print the table data\n",
    "    print(\"Customer_info Table Data:\")\n",
    "    for row in rows:\n",
    "        print(row)\n",
    "except sqlite3.Error as e:\n",
    "    print(f\"An error occurred: {e}\")\n",
    "finally:\n",
    "    connection.close()"
   ]
  },
  {
   "cell_type": "code",
   "execution_count": 47,
   "id": "461ad212",
   "metadata": {},
   "outputs": [
    {
     "data": {
      "text/plain": [
       "[('Poonam_Poonam@gmail.com',\n",
       "  'Poonam',\n",
       "  'Poonam@gmail.com',\n",
       "  'Built-in Oven',\n",
       "  '2025-07-22',\n",
       "  1,\n",
       "  '2026-07-22')]"
      ]
     },
     "execution_count": 47,
     "metadata": {},
     "output_type": "execute_result"
    }
   ],
   "source": [
    "rows= customer_info_display(\"Poonam_Poonam@gmail.com\")\n",
    "rows"
   ]
  },
  {
   "cell_type": "code",
   "execution_count": 42,
   "id": "8f4c0bd9",
   "metadata": {},
   "outputs": [
    {
     "data": {
      "text/plain": [
       "[('Vibha_Vibha@gmail.com',\n",
       "  'Vibha',\n",
       "  'Vibha@gmail.com',\n",
       "  'Fridge',\n",
       "  '2024-09-01',\n",
       "  1,\n",
       "  '2025-09-01')]"
      ]
     },
     "execution_count": 42,
     "metadata": {},
     "output_type": "execute_result"
    }
   ],
   "source": [
    "customer_info_display(id)"
   ]
  },
  {
   "cell_type": "code",
   "execution_count": 48,
   "id": "fc71db6c",
   "metadata": {},
   "outputs": [
    {
     "data": {
      "text/html": [
       "<div>\n",
       "<style scoped>\n",
       "    .dataframe tbody tr th:only-of-type {\n",
       "        vertical-align: middle;\n",
       "    }\n",
       "\n",
       "    .dataframe tbody tr th {\n",
       "        vertical-align: top;\n",
       "    }\n",
       "\n",
       "    .dataframe thead th {\n",
       "        text-align: right;\n",
       "    }\n",
       "</style>\n",
       "<table border=\"1\" class=\"dataframe\">\n",
       "  <thead>\n",
       "    <tr style=\"text-align: right;\">\n",
       "      <th></th>\n",
       "      <th>id</th>\n",
       "      <th>name</th>\n",
       "      <th>email_id</th>\n",
       "      <th>Appliance_name</th>\n",
       "      <th>Purchase_date</th>\n",
       "      <th>warranty_period</th>\n",
       "      <th>warranty_expiry_date</th>\n",
       "    </tr>\n",
       "  </thead>\n",
       "  <tbody>\n",
       "    <tr>\n",
       "      <th>0</th>\n",
       "      <td>Poonam_Poonam@gmail.com</td>\n",
       "      <td>Poonam</td>\n",
       "      <td>Poonam@gmail.com</td>\n",
       "      <td>Built-in Oven</td>\n",
       "      <td>2025-07-22</td>\n",
       "      <td>1</td>\n",
       "      <td>2026-07-22</td>\n",
       "    </tr>\n",
       "  </tbody>\n",
       "</table>\n",
       "</div>"
      ],
      "text/plain": [
       "                        id    name          email_id Appliance_name  \\\n",
       "0  Poonam_Poonam@gmail.com  Poonam  Poonam@gmail.com  Built-in Oven   \n",
       "\n",
       "  Purchase_date  warranty_period warranty_expiry_date  \n",
       "0    2025-07-22                1           2026-07-22  "
      ]
     },
     "execution_count": 48,
     "metadata": {},
     "output_type": "execute_result"
    }
   ],
   "source": [
    "cust_df= pd.DataFrame(rows, columns=['id', 'name', 'email_id', 'Appliance_name', 'Purchase_date', 'warranty_period', 'warranty_expiry_date'])\n",
    "cust_df"
   ]
  },
  {
   "cell_type": "code",
   "execution_count": null,
   "id": "c9e0e619",
   "metadata": {},
   "outputs": [],
   "source": []
  }
 ],
 "metadata": {
  "kernelspec": {
   "display_name": ".venv",
   "language": "python",
   "name": "python3"
  },
  "language_info": {
   "codemirror_mode": {
    "name": "ipython",
    "version": 3
   },
   "file_extension": ".py",
   "mimetype": "text/x-python",
   "name": "python",
   "nbconvert_exporter": "python",
   "pygments_lexer": "ipython3",
   "version": "3.11.5"
  }
 },
 "nbformat": 4,
 "nbformat_minor": 5
}
